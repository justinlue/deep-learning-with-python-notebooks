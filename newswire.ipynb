{
 "cells": [
  {
   "cell_type": "code",
   "execution_count": 1,
   "metadata": {},
   "outputs": [
    {
     "data": {
      "text/plain": [
       "'2.4.3'"
      ]
     },
     "execution_count": 1,
     "metadata": {},
     "output_type": "execute_result"
    }
   ],
   "source": [
    "import keras\n",
    "keras.__version__"
   ]
  },
  {
   "cell_type": "code",
   "execution_count": 2,
   "metadata": {},
   "outputs": [
    {
     "name": "stderr",
     "output_type": "stream",
     "text": [
      "C:\\Users\\l\\AppData\\Roaming\\Python\\Python38\\site-packages\\tensorflow\\python\\keras\\datasets\\reuters.py:148: VisibleDeprecationWarning: Creating an ndarray from ragged nested sequences (which is a list-or-tuple of lists-or-tuples-or ndarrays with different lengths or shapes) is deprecated. If you meant to do this, you must specify 'dtype=object' when creating the ndarray\n",
      "  x_train, y_train = np.array(xs[:idx]), np.array(labels[:idx])\n",
      "C:\\Users\\l\\AppData\\Roaming\\Python\\Python38\\site-packages\\tensorflow\\python\\keras\\datasets\\reuters.py:149: VisibleDeprecationWarning: Creating an ndarray from ragged nested sequences (which is a list-or-tuple of lists-or-tuples-or ndarrays with different lengths or shapes) is deprecated. If you meant to do this, you must specify 'dtype=object' when creating the ndarray\n",
      "  x_test, y_test = np.array(xs[idx:]), np.array(labels[idx:])\n"
     ]
    }
   ],
   "source": [
    "from keras.datasets import reuters\n",
    "\n",
    "(train_data, train_labels), (test_data, test_labels) = reuters.load_data(num_words=10000)"
   ]
  },
  {
   "cell_type": "code",
   "execution_count": 3,
   "metadata": {},
   "outputs": [
    {
     "data": {
      "text/plain": [
       "8982"
      ]
     },
     "execution_count": 3,
     "metadata": {},
     "output_type": "execute_result"
    }
   ],
   "source": [
    "len(train_data)"
   ]
  },
  {
   "cell_type": "code",
   "execution_count": 4,
   "metadata": {},
   "outputs": [
    {
     "data": {
      "text/plain": [
       "2246"
      ]
     },
     "execution_count": 4,
     "metadata": {},
     "output_type": "execute_result"
    }
   ],
   "source": [
    "len(test_data)"
   ]
  },
  {
   "cell_type": "code",
   "execution_count": 5,
   "metadata": {},
   "outputs": [
    {
     "data": {
      "text/plain": [
       "[1,\n",
       " 245,\n",
       " 273,\n",
       " 207,\n",
       " 156,\n",
       " 53,\n",
       " 74,\n",
       " 160,\n",
       " 26,\n",
       " 14,\n",
       " 46,\n",
       " 296,\n",
       " 26,\n",
       " 39,\n",
       " 74,\n",
       " 2979,\n",
       " 3554,\n",
       " 14,\n",
       " 46,\n",
       " 4689,\n",
       " 4329,\n",
       " 86,\n",
       " 61,\n",
       " 3499,\n",
       " 4795,\n",
       " 14,\n",
       " 61,\n",
       " 451,\n",
       " 4329,\n",
       " 17,\n",
       " 12]"
      ]
     },
     "execution_count": 5,
     "metadata": {},
     "output_type": "execute_result"
    }
   ],
   "source": [
    "train_data[10]"
   ]
  },
  {
   "cell_type": "code",
   "execution_count": 6,
   "metadata": {},
   "outputs": [],
   "source": [
    "word_index = reuters.get_word_index()\n",
    "reverse_word_index = dict([(value, key) for (key, value) in word_index.items()])\n",
    "# Note that our indices were offset by 3\n",
    "# because 0, 1 and 2 are reserved indices for \"padding\", \"start of sequence\", and \"unknown\".\n",
    "decoded_newswire = ' '.join([reverse_word_index.get(i - 3, '?') for i in train_data[0]])"
   ]
  },
  {
   "cell_type": "code",
   "execution_count": 7,
   "metadata": {},
   "outputs": [
    {
     "data": {
      "text/plain": [
       "'? ? ? said as a result of its december acquisition of space co it expects earnings per share in 1987 of 1 15 to 1 30 dlrs per share up from 70 cts in 1986 the company said pretax net should rise to nine to 10 mln dlrs from six mln dlrs in 1986 and rental operation revenues to 19 to 22 mln dlrs from 12 5 mln dlrs it said cash flow per share this year should be 2 50 to three dlrs reuter 3'"
      ]
     },
     "execution_count": 7,
     "metadata": {},
     "output_type": "execute_result"
    }
   ],
   "source": [
    "decoded_newswire"
   ]
  },
  {
   "cell_type": "code",
   "execution_count": 8,
   "metadata": {},
   "outputs": [
    {
     "data": {
      "text/plain": [
       "3"
      ]
     },
     "execution_count": 8,
     "metadata": {},
     "output_type": "execute_result"
    }
   ],
   "source": [
    "train_labels[10]"
   ]
  },
  {
   "cell_type": "code",
   "execution_count": 9,
   "metadata": {},
   "outputs": [],
   "source": [
    "import numpy as np\n",
    "\n",
    "def vectorize_sequences(sequences, dimension=10000):\n",
    "    results = np.zeros((len(sequences), dimension))\n",
    "    for i, sequence in enumerate(sequences):\n",
    "        results[i, sequence] = 1.\n",
    "    return results\n",
    "\n",
    "# Our vectorized training data\n",
    "x_train = vectorize_sequences(train_data)\n",
    "# Our vectorized test data\n",
    "x_test = vectorize_sequences(test_data)"
   ]
  },
  {
   "cell_type": "code",
   "execution_count": 10,
   "metadata": {},
   "outputs": [],
   "source": [
    "def to_one_hot(labels, dimension=46):\n",
    "    results = np.zeros((len(labels), dimension))\n",
    "    for i, label in enumerate(labels):\n",
    "        results[i, label] = 1.\n",
    "    return results\n",
    "\n",
    "# Our vectorized training labels\n",
    "one_hot_train_labels = to_one_hot(train_labels)\n",
    "# Our vectorized test labels\n",
    "one_hot_test_labels = to_one_hot(test_labels)"
   ]
  },
  {
   "cell_type": "code",
   "execution_count": 11,
   "metadata": {},
   "outputs": [],
   "source": [
    "from keras.utils.np_utils import to_categorical\n",
    "\n",
    "one_hot_train_labels = to_categorical(train_labels)\n",
    "one_hot_test_labels = to_categorical(test_labels)"
   ]
  },
  {
   "cell_type": "code",
   "execution_count": 12,
   "metadata": {},
   "outputs": [],
   "source": [
    "from keras import models\n",
    "from keras import layers\n",
    "\n",
    "model = models.Sequential()\n",
    "model.add(layers.Dense(64, activation='relu', input_shape=(10000,)))\n",
    "model.add(layers.Dense(64, activation='relu'))\n",
    "model.add(layers.Dense(46, activation='softmax'))"
   ]
  },
  {
   "cell_type": "code",
   "execution_count": 13,
   "metadata": {},
   "outputs": [],
   "source": [
    "model.compile(optimizer='rmsprop',\n",
    "              loss='categorical_crossentropy',\n",
    "              metrics=['accuracy'])"
   ]
  },
  {
   "cell_type": "code",
   "execution_count": 14,
   "metadata": {},
   "outputs": [],
   "source": [
    "x_val = x_train[:1000]\n",
    "partial_x_train = x_train[1000:]\n",
    "\n",
    "y_val = one_hot_train_labels[:1000]\n",
    "partial_y_train = one_hot_train_labels[1000:]"
   ]
  },
  {
   "cell_type": "code",
   "execution_count": 15,
   "metadata": {},
   "outputs": [
    {
     "name": "stdout",
     "output_type": "stream",
     "text": [
      "Epoch 1/20\n",
      "16/16 [==============================] - 2s 120ms/step - loss: 3.1704 - accuracy: 0.3627 - val_loss: 1.7782 - val_accuracy: 0.6240\n",
      "Epoch 2/20\n",
      "16/16 [==============================] - 0s 24ms/step - loss: 1.5614 - accuracy: 0.6766 - val_loss: 1.3237 - val_accuracy: 0.6960\n",
      "Epoch 3/20\n",
      "16/16 [==============================] - 0s 24ms/step - loss: 1.1010 - accuracy: 0.7634 - val_loss: 1.1330 - val_accuracy: 0.7440\n",
      "Epoch 4/20\n",
      "16/16 [==============================] - 1s 36ms/step - loss: 0.8654 - accuracy: 0.8152 - val_loss: 1.0387 - val_accuracy: 0.7700\n",
      "Epoch 5/20\n",
      "16/16 [==============================] - 1s 36ms/step - loss: 0.7019 - accuracy: 0.8524 - val_loss: 0.9631 - val_accuracy: 0.7970\n",
      "Epoch 6/20\n",
      "16/16 [==============================] - 1s 33ms/step - loss: 0.5378 - accuracy: 0.8909 - val_loss: 0.9394 - val_accuracy: 0.7950\n",
      "Epoch 7/20\n",
      "16/16 [==============================] - 0s 27ms/step - loss: 0.4428 - accuracy: 0.9088 - val_loss: 0.9073 - val_accuracy: 0.8140\n",
      "Epoch 8/20\n",
      "16/16 [==============================] - 0s 26ms/step - loss: 0.3639 - accuracy: 0.9254 - val_loss: 0.8877 - val_accuracy: 0.8160\n",
      "Epoch 9/20\n",
      "16/16 [==============================] - 0s 26ms/step - loss: 0.2898 - accuracy: 0.9409 - val_loss: 0.9233 - val_accuracy: 0.8040\n",
      "Epoch 10/20\n",
      "16/16 [==============================] - 0s 26ms/step - loss: 0.2374 - accuracy: 0.9486 - val_loss: 0.9191 - val_accuracy: 0.8110\n",
      "Epoch 11/20\n",
      "16/16 [==============================] - 0s 26ms/step - loss: 0.2067 - accuracy: 0.9507 - val_loss: 0.8980 - val_accuracy: 0.8210\n",
      "Epoch 12/20\n",
      "16/16 [==============================] - 0s 25ms/step - loss: 0.1871 - accuracy: 0.9536 - val_loss: 0.9294 - val_accuracy: 0.8180\n",
      "Epoch 13/20\n",
      "16/16 [==============================] - 0s 27ms/step - loss: 0.1622 - accuracy: 0.9565 - val_loss: 0.9508 - val_accuracy: 0.8120\n",
      "Epoch 14/20\n",
      "16/16 [==============================] - 0s 28ms/step - loss: 0.1528 - accuracy: 0.9574 - val_loss: 0.9359 - val_accuracy: 0.8200\n",
      "Epoch 15/20\n",
      "16/16 [==============================] - 0s 25ms/step - loss: 0.1360 - accuracy: 0.9615 - val_loss: 0.9856 - val_accuracy: 0.8190\n",
      "Epoch 16/20\n",
      "16/16 [==============================] - 0s 26ms/step - loss: 0.1264 - accuracy: 0.9609 - val_loss: 0.9920 - val_accuracy: 0.8100\n",
      "Epoch 17/20\n",
      "16/16 [==============================] - 0s 28ms/step - loss: 0.1142 - accuracy: 0.9618 - val_loss: 0.9912 - val_accuracy: 0.8170\n",
      "Epoch 18/20\n",
      "16/16 [==============================] - 0s 27ms/step - loss: 0.1099 - accuracy: 0.9603 - val_loss: 1.0492 - val_accuracy: 0.8040\n",
      "Epoch 19/20\n",
      "16/16 [==============================] - 0s 26ms/step - loss: 0.1073 - accuracy: 0.9611 - val_loss: 1.0911 - val_accuracy: 0.8010\n",
      "Epoch 20/20\n",
      "16/16 [==============================] - 0s 30ms/step - loss: 0.1101 - accuracy: 0.9593 - val_loss: 1.0802 - val_accuracy: 0.8030\n"
     ]
    }
   ],
   "source": [
    "history = model.fit(partial_x_train,\n",
    "                    partial_y_train,\n",
    "                    epochs=20,\n",
    "                    batch_size=512,\n",
    "                    validation_data=(x_val, y_val))"
   ]
  },
  {
   "cell_type": "code",
   "execution_count": 16,
   "metadata": {},
   "outputs": [
    {
     "data": {
      "image/png": "[encoded data removed]",
      "text/plain": [
       "<Figure size 432x288 with 1 Axes>"
      ]
     },
     "metadata": {
      "needs_background": "light"
     },
     "output_type": "display_data"
    }
   ],
   "source": [
    "import matplotlib.pyplot as plt\n",
    "\n",
    "loss = history.history['loss']\n",
    "val_loss = history.history['val_loss']\n",
    "\n",
    "epochs = range(1, len(loss) + 1)\n",
    "\n",
    "plt.plot(epochs, loss, 'bo', label='Training loss')\n",
    "plt.plot(epochs, val_loss, 'b', label='Validation loss')\n",
    "plt.title('Training and validation loss')\n",
    "plt.xlabel('Epochs')\n",
    "plt.ylabel('Loss')\n",
    "plt.legend()\n",
    "\n",
    "plt.show()"
   ]
  },
  {
   "cell_type": "code",
   "execution_count": 17,
   "metadata": {},
   "outputs": [
    {
     "data": {
      "text/plain": [
       "dict_keys(['loss', 'accuracy', 'val_loss', 'val_accuracy'])"
      ]
     },
     "execution_count": 17,
     "metadata": {},
     "output_type": "execute_result"
    }
   ],
   "source": [
    "history_dict = history.history\n",
    "history_dict.keys()"
   ]
  },
  {
   "cell_type": "code",
   "execution_count": 18,
   "metadata": {},
   "outputs": [
    {
     "data": {
      "image/png": "[encoded data removed]",
      "text/plain": [
       "<Figure size 432x288 with 1 Axes>"
      ]
     },
     "metadata": {
      "needs_background": "light"
     },
     "output_type": "display_data"
    }
   ],
   "source": [
    "plt.clf()   # clear figure\n",
    "\n",
    "acc = history.history['accuracy']\n",
    "val_acc = history.history['val_accuracy']\n",
    "\n",
    "plt.plot(epochs, acc, 'bo', label='Training acc')\n",
    "plt.plot(epochs, val_acc, 'b', label='Validation acc')\n",
    "plt.title('Training and validation accuracy')\n",
    "plt.xlabel('Epochs')\n",
    "plt.ylabel('Loss')\n",
    "plt.legend()\n",
    "\n",
    "plt.show()"
   ]
  },
  {
   "cell_type": "code",
   "execution_count": 19,
   "metadata": {},
   "outputs": [
    {
     "name": "stdout",
     "output_type": "stream",
     "text": [
      "Epoch 1/8\n",
      "16/16 [==============================] - 1s 43ms/step - loss: 3.1660 - accuracy: 0.4017 - val_loss: 1.7433 - val_accuracy: 0.6580\n",
      "Epoch 2/8\n",
      "16/16 [==============================] - 0s 29ms/step - loss: 1.5281 - accuracy: 0.6940 - val_loss: 1.3047 - val_accuracy: 0.7230\n",
      "Epoch 3/8\n",
      "16/16 [==============================] - 1s 36ms/step - loss: 1.1038 - accuracy: 0.7599 - val_loss: 1.1351 - val_accuracy: 0.7370\n",
      "Epoch 4/8\n",
      "16/16 [==============================] - 1s 35ms/step - loss: 0.8417 - accuracy: 0.8144 - val_loss: 1.0226 - val_accuracy: 0.7810\n",
      "Epoch 5/8\n",
      "16/16 [==============================] - 0s 24ms/step - loss: 0.7012 - accuracy: 0.8525 - val_loss: 0.9650 - val_accuracy: 0.8000\n",
      "Epoch 6/8\n",
      "16/16 [==============================] - 0s 28ms/step - loss: 0.5371 - accuracy: 0.8923 - val_loss: 0.9421 - val_accuracy: 0.7890\n",
      "Epoch 7/8\n",
      "16/16 [==============================] - 0s 27ms/step - loss: 0.4583 - accuracy: 0.9047 - val_loss: 0.8957 - val_accuracy: 0.8070\n",
      "Epoch 8/8\n",
      "16/16 [==============================] - 0s 26ms/step - loss: 0.3478 - accuracy: 0.9310 - val_loss: 0.8875 - val_accuracy: 0.8060\n",
      "71/71 [==============================] - 0s 3ms/step - loss: 0.9791 - accuracy: 0.7881\n"
     ]
    }
   ],
   "source": [
    "model = models.Sequential()\n",
    "model.add(layers.Dense(64, activation='relu', input_shape=(10000,)))\n",
    "model.add(layers.Dense(64, activation='relu'))\n",
    "model.add(layers.Dense(46, activation='softmax'))\n",
    "\n",
    "model.compile(optimizer='rmsprop',\n",
    "              loss='categorical_crossentropy',\n",
    "              metrics=['accuracy'])\n",
    "model.fit(partial_x_train,\n",
    "          partial_y_train,\n",
    "          epochs=8,\n",
    "          batch_size=512,\n",
    "          validation_data=(x_val, y_val))\n",
    "results = model.evaluate(x_test, one_hot_test_labels)"
   ]
  },
  {
   "cell_type": "code",
   "execution_count": 20,
   "metadata": {},
   "outputs": [
    {
     "data": {
      "text/plain": [
       "[0.9791150093078613, 0.7880676984786987]"
      ]
     },
     "execution_count": 20,
     "metadata": {},
     "output_type": "execute_result"
    }
   ],
   "source": [
    "results"
   ]
  },
  {
   "cell_type": "code",
   "execution_count": 21,
   "metadata": {},
   "outputs": [
    {
     "data": {
      "text/plain": [
       "0.18432769367764915"
      ]
     },
     "execution_count": 21,
     "metadata": {},
     "output_type": "execute_result"
    }
   ],
   "source": [
    "import copy\n",
    "\n",
    "test_labels_copy = copy.copy(test_labels)\n",
    "np.random.shuffle(test_labels_copy)\n",
    "float(np.sum(np.array(test_labels) == np.array(test_labels_copy))) / len(test_labels)"
   ]
  },
  {
   "cell_type": "code",
   "execution_count": 22,
   "metadata": {},
   "outputs": [],
   "source": [
    "predictions = model.predict(x_test)"
   ]
  },
  {
   "cell_type": "code",
   "execution_count": 23,
   "metadata": {},
   "outputs": [
    {
     "data": {
      "text/plain": [
       "(46,)"
      ]
     },
     "execution_count": 23,
     "metadata": {},
     "output_type": "execute_result"
    }
   ],
   "source": [
    "predictions[0].shape"
   ]
  },
  {
   "cell_type": "code",
   "execution_count": 24,
   "metadata": {},
   "outputs": [
    {
     "data": {
      "text/plain": [
       "1.0"
      ]
     },
     "execution_count": 24,
     "metadata": {},
     "output_type": "execute_result"
    }
   ],
   "source": [
    "np.sum(predictions[0])"
   ]
  },
  {
   "cell_type": "code",
   "execution_count": 25,
   "metadata": {},
   "outputs": [
    {
     "data": {
      "text/plain": [
       "3"
      ]
     },
     "execution_count": 25,
     "metadata": {},
     "output_type": "execute_result"
    }
   ],
   "source": [
    "np.argmax(predictions[0])"
   ]
  },
  {
   "cell_type": "code",
   "execution_count": 26,
   "metadata": {},
   "outputs": [],
   "source": [
    "y_train = np.array(train_labels)\n",
    "y_test = np.array(test_labels)"
   ]
  },
  {
   "cell_type": "code",
   "execution_count": 27,
   "metadata": {},
   "outputs": [],
   "source": [
    "model.compile(optimizer='rmsprop', loss='sparse_categorical_crossentropy', metrics=['acc'])"
   ]
  },
  {
   "cell_type": "code",
   "execution_count": 28,
   "metadata": {},
   "outputs": [
    {
     "name": "stdout",
     "output_type": "stream",
     "text": [
      "Epoch 1/20\n",
      "63/63 [==============================] - 2s 16ms/step - loss: 3.0220 - accuracy: 0.2862 - val_loss: 1.6907 - val_accuracy: 0.6150\n",
      "Epoch 2/20\n",
      "63/63 [==============================] - 1s 12ms/step - loss: 1.5679 - accuracy: 0.6467 - val_loss: 1.4153 - val_accuracy: 0.6580\n",
      "Epoch 3/20\n",
      "63/63 [==============================] - 1s 14ms/step - loss: 1.2447 - accuracy: 0.6823 - val_loss: 1.3133 - val_accuracy: 0.6930\n",
      "Epoch 4/20\n",
      "63/63 [==============================] - 1s 14ms/step - loss: 1.0904 - accuracy: 0.7263 - val_loss: 1.2700 - val_accuracy: 0.6990\n",
      "Epoch 5/20\n",
      "63/63 [==============================] - 1s 11ms/step - loss: 0.9668 - accuracy: 0.7527 - val_loss: 1.2482 - val_accuracy: 0.7030\n",
      "Epoch 6/20\n",
      "63/63 [==============================] - 1s 12ms/step - loss: 0.8895 - accuracy: 0.7581 - val_loss: 1.2603 - val_accuracy: 0.7120\n",
      "Epoch 7/20\n",
      "63/63 [==============================] - 1s 12ms/step - loss: 0.8152 - accuracy: 0.7750 - val_loss: 1.2857 - val_accuracy: 0.7080\n",
      "Epoch 8/20\n",
      "63/63 [==============================] - 1s 13ms/step - loss: 0.7653 - accuracy: 0.7891 - val_loss: 1.2982 - val_accuracy: 0.7090\n",
      "Epoch 9/20\n",
      "63/63 [==============================] - 1s 14ms/step - loss: 0.7198 - accuracy: 0.8000 - val_loss: 1.3250 - val_accuracy: 0.7110\n",
      "Epoch 10/20\n",
      "63/63 [==============================] - 1s 11ms/step - loss: 0.6583 - accuracy: 0.8089 - val_loss: 1.3140 - val_accuracy: 0.7300\n",
      "Epoch 11/20\n",
      "63/63 [==============================] - 1s 12ms/step - loss: 0.6357 - accuracy: 0.8148 - val_loss: 1.3811 - val_accuracy: 0.7190\n",
      "Epoch 12/20\n",
      "63/63 [==============================] - 1s 12ms/step - loss: 0.6008 - accuracy: 0.8276 - val_loss: 1.3991 - val_accuracy: 0.7270\n",
      "Epoch 13/20\n",
      "63/63 [==============================] - 1s 12ms/step - loss: 0.5725 - accuracy: 0.8335 - val_loss: 1.4204 - val_accuracy: 0.7250\n",
      "Epoch 14/20\n",
      "63/63 [==============================] - 1s 11ms/step - loss: 0.5262 - accuracy: 0.8448 - val_loss: 1.4672 - val_accuracy: 0.7210\n",
      "Epoch 15/20\n",
      "63/63 [==============================] - 1s 13ms/step - loss: 0.4865 - accuracy: 0.8498 - val_loss: 1.5070 - val_accuracy: 0.7210\n",
      "Epoch 16/20\n",
      "63/63 [==============================] - 1s 15ms/step - loss: 0.4772 - accuracy: 0.8519 - val_loss: 1.6004 - val_accuracy: 0.7110\n",
      "Epoch 17/20\n",
      "63/63 [==============================] - 1s 12ms/step - loss: 0.4565 - accuracy: 0.8573 - val_loss: 1.6364 - val_accuracy: 0.7180\n",
      "Epoch 18/20\n",
      "63/63 [==============================] - 1s 11ms/step - loss: 0.4368 - accuracy: 0.8661 - val_loss: 1.6577 - val_accuracy: 0.7150\n",
      "Epoch 19/20\n",
      "63/63 [==============================] - 1s 12ms/step - loss: 0.4182 - accuracy: 0.8747 - val_loss: 1.7607 - val_accuracy: 0.7190\n",
      "Epoch 20/20\n",
      "63/63 [==============================] - 1s 12ms/step - loss: 0.4050 - accuracy: 0.8750 - val_loss: 1.7785 - val_accuracy: 0.7210\n"
     ]
    },
    {
     "data": {
      "text/plain": [
       "<tensorflow.python.keras.callbacks.History at 0x2051d920700>"
      ]
     },
     "execution_count": 28,
     "metadata": {},
     "output_type": "execute_result"
    }
   ],
   "source": [
    "model = models.Sequential()\n",
    "model.add(layers.Dense(64, activation='relu', input_shape=(10000,)))\n",
    "model.add(layers.Dense(4, activation='relu'))\n",
    "model.add(layers.Dense(46, activation='softmax'))\n",
    "\n",
    "model.compile(optimizer='rmsprop',\n",
    "              loss='categorical_crossentropy',\n",
    "              metrics=['accuracy'])\n",
    "model.fit(partial_x_train,\n",
    "          partial_y_train,\n",
    "          epochs=20,\n",
    "          batch_size=128,\n",
    "          validation_data=(x_val, y_val))"
   ]
  },
  {
   "cell_type": "code",
   "execution_count": null,
   "metadata": {},
   "outputs": [],
   "source": []
  }
 ],
 "metadata": {
  "kernelspec": {
   "display_name": "Python 3",
   "language": "python",
   "name": "python3"
  },
  "language_info": {
   "codemirror_mode": {
    "name": "ipython",
    "version": 3
   },
   "file_extension": ".py",
   "mimetype": "text/x-python",
   "name": "python",
   "nbconvert_exporter": "python",
   "pygments_lexer": "ipython3",
   "version": "3.8.5"
  }
 },
 "nbformat": 4,
 "nbformat_minor": 4
}
