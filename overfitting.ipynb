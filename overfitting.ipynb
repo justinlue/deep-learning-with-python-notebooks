{
 "cells": [
  {
   "cell_type": "code",
   "execution_count": 1,
   "metadata": {},
   "outputs": [
    {
     "data": {
      "text/plain": [
       "'2.4.3'"
      ]
     },
     "execution_count": 1,
     "metadata": {},
     "output_type": "execute_result"
    }
   ],
   "source": [
    "import keras\n",
    "keras.__version__"
   ]
  },
  {
   "cell_type": "code",
   "execution_count": 2,
   "metadata": {},
   "outputs": [
    {
     "name": "stderr",
     "output_type": "stream",
     "text": [
      "<__array_function__ internals>:5: VisibleDeprecationWarning: Creating an ndarray from ragged nested sequences (which is a list-or-tuple of lists-or-tuples-or ndarrays with different lengths or shapes) is deprecated. If you meant to do this, you must specify 'dtype=object' when creating the ndarray\n",
      "C:\\Users\\l\\AppData\\Roaming\\Python\\Python38\\site-packages\\tensorflow\\python\\keras\\datasets\\imdb.py:159: VisibleDeprecationWarning: Creating an ndarray from ragged nested sequences (which is a list-or-tuple of lists-or-tuples-or ndarrays with different lengths or shapes) is deprecated. If you meant to do this, you must specify 'dtype=object' when creating the ndarray\n",
      "  x_train, y_train = np.array(xs[:idx]), np.array(labels[:idx])\n",
      "C:\\Users\\l\\AppData\\Roaming\\Python\\Python38\\site-packages\\tensorflow\\python\\keras\\datasets\\imdb.py:160: VisibleDeprecationWarning: Creating an ndarray from ragged nested sequences (which is a list-or-tuple of lists-or-tuples-or ndarrays with different lengths or shapes) is deprecated. If you meant to do this, you must specify 'dtype=object' when creating the ndarray\n",
      "  x_test, y_test = np.array(xs[idx:]), np.array(labels[idx:])\n"
     ]
    }
   ],
   "source": [
    "from keras.datasets import imdb\n",
    "import numpy as np\n",
    "\n",
    "(train_data, train_labels), (test_data, test_labels) = imdb.load_data(num_words=10000)\n",
    "\n",
    "def vectorize_sequences(sequences, dimension=10000):\n",
    "    # Create an all-zero matrix of shape (len(sequences), dimension)\n",
    "    results = np.zeros((len(sequences), dimension))\n",
    "    for i, sequence in enumerate(sequences):\n",
    "        results[i, sequence] = 1.  # set specific indices of results[i] to 1s\n",
    "    return results\n",
    "\n",
    "# Our vectorized training data\n",
    "x_train = vectorize_sequences(train_data)\n",
    "# Our vectorized test data\n",
    "x_test = vectorize_sequences(test_data)\n",
    "# Our vectorized labels\n",
    "y_train = np.asarray(train_labels).astype('float32')\n",
    "y_test = np.asarray(test_labels).astype('float32')"
   ]
  },
  {
   "cell_type": "code",
   "execution_count": 3,
   "metadata": {},
   "outputs": [],
   "source": [
    "from keras import models\n",
    "from keras import layers\n",
    "\n",
    "original_model = models.Sequential()\n",
    "original_model.add(layers.Dense(16, activation='relu', input_shape=(10000,)))\n",
    "original_model.add(layers.Dense(16, activation='relu'))\n",
    "original_model.add(layers.Dense(1, activation='sigmoid'))\n",
    "\n",
    "original_model.compile(optimizer='rmsprop',\n",
    "                       loss='binary_crossentropy',\n",
    "                       metrics=['acc'])"
   ]
  },
  {
   "cell_type": "code",
   "execution_count": 4,
   "metadata": {},
   "outputs": [],
   "source": [
    "smaller_model = models.Sequential()\n",
    "smaller_model.add(layers.Dense(4, activation='relu', input_shape=(10000,)))\n",
    "smaller_model.add(layers.Dense(4, activation='relu'))\n",
    "smaller_model.add(layers.Dense(1, activation='sigmoid'))\n",
    "\n",
    "smaller_model.compile(optimizer='rmsprop',\n",
    "                      loss='binary_crossentropy',\n",
    "                      metrics=['acc'])"
   ]
  },
  {
   "cell_type": "code",
   "execution_count": 5,
   "metadata": {},
   "outputs": [
    {
     "name": "stdout",
     "output_type": "stream",
     "text": [
      "Epoch 1/20\n",
      "49/49 [==============================] - 3s 53ms/step - loss: 0.5793 - acc: 0.7451 - val_loss: 0.3760 - val_acc: 0.8737\n",
      "Epoch 2/20\n",
      "49/49 [==============================] - 1s 20ms/step - loss: 0.3084 - acc: 0.9034 - val_loss: 0.2935 - val_acc: 0.8893\n",
      "Epoch 3/20\n",
      "49/49 [==============================] - 1s 22ms/step - loss: 0.2216 - acc: 0.9258 - val_loss: 0.2799 - val_acc: 0.8892\n",
      "Epoch 4/20\n",
      "49/49 [==============================] - 1s 19ms/step - loss: 0.1723 - acc: 0.9417 - val_loss: 0.3098 - val_acc: 0.8764\n",
      "Epoch 5/20\n",
      "49/49 [==============================] - 1s 19ms/step - loss: 0.1463 - acc: 0.9517 - val_loss: 0.3137 - val_acc: 0.8788\n",
      "Epoch 6/20\n",
      "49/49 [==============================] - 1s 19ms/step - loss: 0.1245 - acc: 0.9602 - val_loss: 0.3243 - val_acc: 0.8779\n",
      "Epoch 7/20\n",
      "49/49 [==============================] - 1s 18ms/step - loss: 0.1105 - acc: 0.9644 - val_loss: 0.3812 - val_acc: 0.8677\n",
      "Epoch 8/20\n",
      "49/49 [==============================] - 1s 19ms/step - loss: 0.0928 - acc: 0.9678 - val_loss: 0.3773 - val_acc: 0.8672\n",
      "Epoch 9/20\n",
      "49/49 [==============================] - 1s 18ms/step - loss: 0.0803 - acc: 0.9759 - val_loss: 0.3953 - val_acc: 0.8686\n",
      "Epoch 10/20\n",
      "49/49 [==============================] - 1s 22ms/step - loss: 0.0675 - acc: 0.9820 - val_loss: 0.4473 - val_acc: 0.8591\n",
      "Epoch 11/20\n",
      "49/49 [==============================] - 1s 19ms/step - loss: 0.0626 - acc: 0.9828 - val_loss: 0.4524 - val_acc: 0.8646\n",
      "Epoch 12/20\n",
      "49/49 [==============================] - 1s 18ms/step - loss: 0.0498 - acc: 0.9868 - val_loss: 0.5010 - val_acc: 0.8616\n",
      "Epoch 13/20\n",
      "49/49 [==============================] - 1s 24ms/step - loss: 0.0424 - acc: 0.9898 - val_loss: 0.5225 - val_acc: 0.8576\n",
      "Epoch 14/20\n",
      "49/49 [==============================] - 1s 19ms/step - loss: 0.0387 - acc: 0.9897 - val_loss: 0.5548 - val_acc: 0.8597\n",
      "Epoch 15/20\n",
      "49/49 [==============================] - 1s 20ms/step - loss: 0.0306 - acc: 0.9925 - val_loss: 0.5952 - val_acc: 0.8550\n",
      "Epoch 16/20\n",
      "49/49 [==============================] - 1s 21ms/step - loss: 0.0254 - acc: 0.9939 - val_loss: 0.6494 - val_acc: 0.8569\n",
      "Epoch 17/20\n",
      "49/49 [==============================] - 1s 21ms/step - loss: 0.0179 - acc: 0.9967 - val_loss: 0.7140 - val_acc: 0.8439\n",
      "Epoch 18/20\n",
      "49/49 [==============================] - 1s 22ms/step - loss: 0.0165 - acc: 0.9964 - val_loss: 0.7160 - val_acc: 0.8523\n",
      "Epoch 19/20\n",
      "49/49 [==============================] - 1s 22ms/step - loss: 0.0106 - acc: 0.9981 - val_loss: 0.7621 - val_acc: 0.8529\n",
      "Epoch 20/20\n",
      "49/49 [==============================] - 1s 23ms/step - loss: 0.0087 - acc: 0.9986 - val_loss: 0.8061 - val_acc: 0.8515\n"
     ]
    }
   ],
   "source": [
    "original_hist = original_model.fit(x_train, y_train,\n",
    "                                   epochs=20,\n",
    "                                   batch_size=512,\n",
    "                                   validation_data=(x_test, y_test))"
   ]
  },
  {
   "cell_type": "code",
   "execution_count": 6,
   "metadata": {},
   "outputs": [
    {
     "name": "stdout",
     "output_type": "stream",
     "text": [
      "Epoch 1/20\n",
      "49/49 [==============================] - 2s 28ms/step - loss: 0.6410 - acc: 0.6183 - val_loss: 0.5536 - val_acc: 0.7343\n",
      "Epoch 2/20\n",
      "49/49 [==============================] - 1s 23ms/step - loss: 0.5217 - acc: 0.8039 - val_loss: 0.4976 - val_acc: 0.8214\n",
      "Epoch 3/20\n",
      "49/49 [==============================] - 1s 18ms/step - loss: 0.4607 - acc: 0.8687 - val_loss: 0.4689 - val_acc: 0.8520\n",
      "Epoch 4/20\n",
      "49/49 [==============================] - 1s 18ms/step - loss: 0.4210 - acc: 0.9039 - val_loss: 0.4526 - val_acc: 0.8638\n",
      "Epoch 5/20\n",
      "49/49 [==============================] - 1s 19ms/step - loss: 0.3946 - acc: 0.9236 - val_loss: 0.4482 - val_acc: 0.8626\n",
      "Epoch 6/20\n",
      "49/49 [==============================] - 1s 19ms/step - loss: 0.3716 - acc: 0.9396 - val_loss: 0.4372 - val_acc: 0.8736\n",
      "Epoch 7/20\n",
      "49/49 [==============================] - 1s 18ms/step - loss: 0.3502 - acc: 0.9472 - val_loss: 0.4309 - val_acc: 0.8777\n",
      "Epoch 8/20\n",
      "49/49 [==============================] - 1s 18ms/step - loss: 0.3353 - acc: 0.9531 - val_loss: 0.4420 - val_acc: 0.8696\n",
      "Epoch 9/20\n",
      "49/49 [==============================] - 1s 18ms/step - loss: 0.3146 - acc: 0.9601 - val_loss: 0.4450 - val_acc: 0.8688\n",
      "Epoch 10/20\n",
      "49/49 [==============================] - 1s 19ms/step - loss: 0.3011 - acc: 0.9636 - val_loss: 0.4694 - val_acc: 0.8606\n",
      "Epoch 11/20\n",
      "49/49 [==============================] - 1s 21ms/step - loss: 0.2857 - acc: 0.9656 - val_loss: 0.4836 - val_acc: 0.8580\n",
      "Epoch 12/20\n",
      "49/49 [==============================] - 1s 19ms/step - loss: 0.2723 - acc: 0.9700 - val_loss: 0.4365 - val_acc: 0.8693\n",
      "Epoch 13/20\n",
      "49/49 [==============================] - 1s 19ms/step - loss: 0.2617 - acc: 0.9718 - val_loss: 0.4843 - val_acc: 0.8617\n",
      "Epoch 14/20\n",
      "49/49 [==============================] - 1s 19ms/step - loss: 0.2509 - acc: 0.9743 - val_loss: 0.4534 - val_acc: 0.8656\n",
      "Epoch 15/20\n",
      "49/49 [==============================] - 1s 19ms/step - loss: 0.2418 - acc: 0.9742 - val_loss: 0.5158 - val_acc: 0.8592\n",
      "Epoch 16/20\n",
      "49/49 [==============================] - 1s 20ms/step - loss: 0.2290 - acc: 0.9773 - val_loss: 0.5490 - val_acc: 0.8535\n",
      "Epoch 17/20\n",
      "49/49 [==============================] - 1s 19ms/step - loss: 0.2187 - acc: 0.9782 - val_loss: 0.5429 - val_acc: 0.8554\n",
      "Epoch 18/20\n",
      "49/49 [==============================] - 1s 18ms/step - loss: 0.2097 - acc: 0.9797 - val_loss: 0.5493 - val_acc: 0.8569\n",
      "Epoch 19/20\n",
      "49/49 [==============================] - 1s 18ms/step - loss: 0.2011 - acc: 0.9800 - val_loss: 0.5237 - val_acc: 0.8592\n",
      "Epoch 20/20\n",
      "49/49 [==============================] - 1s 18ms/step - loss: 0.1925 - acc: 0.9834 - val_loss: 0.5421 - val_acc: 0.8582\n"
     ]
    }
   ],
   "source": [
    "smaller_model_hist = smaller_model.fit(x_train, y_train,\n",
    "                                       epochs=20,\n",
    "                                       batch_size=512,\n",
    "                                       validation_data=(x_test, y_test))"
   ]
  },
  {
   "cell_type": "code",
   "execution_count": 7,
   "metadata": {},
   "outputs": [],
   "source": [
    "epochs = range(1, 21)\n",
    "original_val_loss = original_hist.history['val_loss']\n",
    "smaller_model_val_loss = smaller_model_hist.history['val_loss']"
   ]
  },
  {
   "cell_type": "code",
   "execution_count": 8,
   "metadata": {},
   "outputs": [
    {
     "data": {
      "image/png": "[encoded data removed]",
      "text/plain": [
       "<Figure size 432x288 with 1 Axes>"
      ]
     },
     "metadata": {
      "needs_background": "light"
     },
     "output_type": "display_data"
    }
   ],
   "source": [
    "import matplotlib.pyplot as plt\n",
    "\n",
    "# b+ is for \"blue cross\"\n",
    "plt.plot(epochs, original_val_loss, 'b+', label='Original model')\n",
    "# \"bo\" is for \"blue dot\"\n",
    "plt.plot(epochs, smaller_model_val_loss, 'bo', label='Smaller model')\n",
    "plt.xlabel('Epochs')\n",
    "plt.ylabel('Validation loss')\n",
    "plt.legend()\n",
    "\n",
    "plt.show()"
   ]
  },
  {
   "cell_type": "code",
   "execution_count": 9,
   "metadata": {},
   "outputs": [],
   "source": [
    "bigger_model = models.Sequential()\n",
    "bigger_model.add(layers.Dense(512, activation='relu', input_shape=(10000,)))\n",
    "bigger_model.add(layers.Dense(512, activation='relu'))\n",
    "bigger_model.add(layers.Dense(1, activation='sigmoid'))\n",
    "\n",
    "bigger_model.compile(optimizer='rmsprop',\n",
    "                     loss='binary_crossentropy',\n",
    "                     metrics=['acc'])"
   ]
  },
  {
   "cell_type": "code",
   "execution_count": 10,
   "metadata": {},
   "outputs": [
    {
     "name": "stdout",
     "output_type": "stream",
     "text": [
      "Epoch 1/20\n",
      "49/49 [==============================] - 8s 155ms/step - loss: 0.5956 - acc: 0.7059 - val_loss: 0.2775 - val_acc: 0.8896\n",
      "Epoch 2/20\n",
      "49/49 [==============================] - 7s 143ms/step - loss: 0.2493 - acc: 0.9050 - val_loss: 0.2705 - val_acc: 0.8892\n",
      "Epoch 3/20\n",
      "49/49 [==============================] - 7s 142ms/step - loss: 0.1301 - acc: 0.9521 - val_loss: 0.4800 - val_acc: 0.8254\n",
      "Epoch 4/20\n",
      "49/49 [==============================] - 7s 143ms/step - loss: 0.0639 - acc: 0.9793 - val_loss: 0.3869 - val_acc: 0.8813\n",
      "Epoch 5/20\n",
      "49/49 [==============================] - 7s 144ms/step - loss: 0.0288 - acc: 0.9945 - val_loss: 0.4179 - val_acc: 0.8811\n",
      "Epoch 6/20\n",
      "49/49 [==============================] - 7s 146ms/step - loss: 0.0030 - acc: 0.9999 - val_loss: 0.6525 - val_acc: 0.8795\n",
      "Epoch 7/20\n",
      "49/49 [==============================] - 7s 145ms/step - loss: 0.0305 - acc: 0.9973 - val_loss: 0.5493 - val_acc: 0.8750\n",
      "Epoch 8/20\n",
      "49/49 [==============================] - 7s 142ms/step - loss: 0.0019 - acc: 0.9999 - val_loss: 0.6845 - val_acc: 0.8781\n",
      "Epoch 9/20\n",
      "49/49 [==============================] - 7s 142ms/step - loss: 0.0623 - acc: 0.9945 - val_loss: 0.6086 - val_acc: 0.8774\n",
      "Epoch 10/20\n",
      "49/49 [==============================] - 7s 142ms/step - loss: 2.1416e-04 - acc: 1.0000 - val_loss: 0.7405 - val_acc: 0.8779\n",
      "Epoch 11/20\n",
      "49/49 [==============================] - 7s 142ms/step - loss: 0.0150 - acc: 0.9983 - val_loss: 0.6373 - val_acc: 0.8754\n",
      "Epoch 12/20\n",
      "49/49 [==============================] - 7s 142ms/step - loss: 2.2716e-04 - acc: 1.0000 - val_loss: 0.7367 - val_acc: 0.8763\n",
      "Epoch 13/20\n",
      "49/49 [==============================] - 7s 142ms/step - loss: 3.5381e-05 - acc: 1.0000 - val_loss: 0.8782 - val_acc: 0.8764\n",
      "Epoch 14/20\n",
      "49/49 [==============================] - 7s 142ms/step - loss: 7.9205e-06 - acc: 1.0000 - val_loss: 1.0228 - val_acc: 0.8783\n",
      "Epoch 15/20\n",
      "49/49 [==============================] - 7s 147ms/step - loss: 1.6272e-06 - acc: 1.0000 - val_loss: 1.1507 - val_acc: 0.8778\n",
      "Epoch 16/20\n",
      "49/49 [==============================] - 7s 146ms/step - loss: 2.5193e-07 - acc: 1.0000 - val_loss: 1.2851 - val_acc: 0.8780\n",
      "Epoch 17/20\n",
      "49/49 [==============================] - 8s 155ms/step - loss: 5.1893e-08 - acc: 1.0000 - val_loss: 1.3938 - val_acc: 0.8778\n",
      "Epoch 18/20\n",
      "49/49 [==============================] - 7s 148ms/step - loss: 2.2135e-08 - acc: 1.0000 - val_loss: 1.4442 - val_acc: 0.8777\n",
      "Epoch 19/20\n",
      "49/49 [==============================] - 7s 148ms/step - loss: 1.2849e-08 - acc: 1.0000 - val_loss: 1.4750 - val_acc: 0.8777\n",
      "Epoch 20/20\n",
      "49/49 [==============================] - 7s 147ms/step - loss: 9.2231e-09 - acc: 1.0000 - val_loss: 1.4968 - val_acc: 0.8778\n"
     ]
    }
   ],
   "source": [
    "bigger_model_hist = bigger_model.fit(x_train, y_train,\n",
    "                                     epochs=20,\n",
    "                                     batch_size=512,\n",
    "                                     validation_data=(x_test, y_test))"
   ]
  },
  {
   "cell_type": "code",
   "execution_count": 11,
   "metadata": {},
   "outputs": [
    {
     "data": {
      "image/png": "[encoded data removed]",
      "text/plain": [
       "<Figure size 432x288 with 1 Axes>"
      ]
     },
     "metadata": {
      "needs_background": "light"
     },
     "output_type": "display_data"
    }
   ],
   "source": [
    "bigger_model_val_loss = bigger_model_hist.history['val_loss']\n",
    "\n",
    "plt.plot(epochs, original_val_loss, 'b+', label='Original model')\n",
    "plt.plot(epochs, bigger_model_val_loss, 'bo', label='Bigger model')\n",
    "plt.xlabel('Epochs')\n",
    "plt.ylabel('Validation loss')\n",
    "plt.legend()\n",
    "\n",
    "plt.show()"
   ]
  },
  {
   "cell_type": "code",
   "execution_count": 12,
   "metadata": {},
   "outputs": [
    {
     "data": {
      "image/png": "[encoded data removed]",
      "text/plain": [
       "<Figure size 432x288 with 1 Axes>"
      ]
     },
     "metadata": {
      "needs_background": "light"
     },
     "output_type": "display_data"
    }
   ],
   "source": [
    "original_train_loss = original_hist.history['loss']\n",
    "bigger_model_train_loss = bigger_model_hist.history['loss']\n",
    "\n",
    "plt.plot(epochs, original_train_loss, 'b+', label='Original model')\n",
    "plt.plot(epochs, bigger_model_train_loss, 'bo', label='Bigger model')\n",
    "plt.xlabel('Epochs')\n",
    "plt.ylabel('Training loss')\n",
    "plt.legend()\n",
    "\n",
    "plt.show()"
   ]
  },
  {
   "cell_type": "code",
   "execution_count": 13,
   "metadata": {},
   "outputs": [],
   "source": [
    "from keras import regularizers\n",
    "\n",
    "l2_model = models.Sequential()\n",
    "l2_model.add(layers.Dense(16, kernel_regularizer=regularizers.l2(0.001),\n",
    "                          activation='relu', input_shape=(10000,)))\n",
    "l2_model.add(layers.Dense(16, kernel_regularizer=regularizers.l2(0.001),\n",
    "                          activation='relu'))\n",
    "l2_model.add(layers.Dense(1, activation='sigmoid'))"
   ]
  },
  {
   "cell_type": "code",
   "execution_count": 14,
   "metadata": {},
   "outputs": [],
   "source": [
    "l2_model.compile(optimizer='rmsprop',\n",
    "                 loss='binary_crossentropy',\n",
    "                 metrics=['acc'])"
   ]
  },
  {
   "cell_type": "code",
   "execution_count": 15,
   "metadata": {},
   "outputs": [
    {
     "name": "stdout",
     "output_type": "stream",
     "text": [
      "Epoch 1/20\n",
      "49/49 [==============================] - 2s 34ms/step - loss: 0.6060 - acc: 0.7355 - val_loss: 0.3883 - val_acc: 0.8822\n",
      "Epoch 2/20\n",
      "49/49 [==============================] - 1s 23ms/step - loss: 0.3350 - acc: 0.9020 - val_loss: 0.3469 - val_acc: 0.8823\n",
      "Epoch 3/20\n",
      "49/49 [==============================] - 1s 21ms/step - loss: 0.2785 - acc: 0.9190 - val_loss: 0.3356 - val_acc: 0.8856\n",
      "Epoch 4/20\n",
      "49/49 [==============================] - 1s 19ms/step - loss: 0.2521 - acc: 0.9298 - val_loss: 0.3381 - val_acc: 0.8836\n",
      "Epoch 5/20\n",
      "49/49 [==============================] - 1s 19ms/step - loss: 0.2308 - acc: 0.9389 - val_loss: 0.3376 - val_acc: 0.8857\n",
      "Epoch 6/20\n",
      "49/49 [==============================] - 1s 21ms/step - loss: 0.2250 - acc: 0.9429 - val_loss: 0.3628 - val_acc: 0.8760\n",
      "Epoch 7/20\n",
      "49/49 [==============================] - 1s 19ms/step - loss: 0.2157 - acc: 0.9448 - val_loss: 0.3580 - val_acc: 0.8792\n",
      "Epoch 8/20\n",
      "49/49 [==============================] - 1s 22ms/step - loss: 0.2106 - acc: 0.9477 - val_loss: 0.3670 - val_acc: 0.8774\n",
      "Epoch 9/20\n",
      "49/49 [==============================] - 1s 19ms/step - loss: 0.2107 - acc: 0.9455 - val_loss: 0.3778 - val_acc: 0.8748\n",
      "Epoch 10/20\n",
      "49/49 [==============================] - 1s 19ms/step - loss: 0.2081 - acc: 0.9459 - val_loss: 0.3703 - val_acc: 0.8771\n",
      "Epoch 11/20\n",
      "49/49 [==============================] - 1s 19ms/step - loss: 0.2000 - acc: 0.9488 - val_loss: 0.3775 - val_acc: 0.8752\n",
      "Epoch 12/20\n",
      "49/49 [==============================] - 1s 19ms/step - loss: 0.1956 - acc: 0.9510 - val_loss: 0.3845 - val_acc: 0.8735\n",
      "Epoch 13/20\n",
      "49/49 [==============================] - 1s 23ms/step - loss: 0.1932 - acc: 0.9522 - val_loss: 0.3911 - val_acc: 0.8743\n",
      "Epoch 14/20\n",
      "49/49 [==============================] - 1s 19ms/step - loss: 0.1964 - acc: 0.9488 - val_loss: 0.3967 - val_acc: 0.8728\n",
      "Epoch 15/20\n",
      "49/49 [==============================] - 1s 19ms/step - loss: 0.1891 - acc: 0.9549 - val_loss: 0.4343 - val_acc: 0.8596\n",
      "Epoch 16/20\n",
      "49/49 [==============================] - 1s 23ms/step - loss: 0.1894 - acc: 0.9532 - val_loss: 0.4329 - val_acc: 0.8597\n",
      "Epoch 17/20\n",
      "49/49 [==============================] - 1s 19ms/step - loss: 0.1826 - acc: 0.9564 - val_loss: 0.4411 - val_acc: 0.8623\n",
      "Epoch 18/20\n",
      "49/49 [==============================] - 1s 19ms/step - loss: 0.1929 - acc: 0.9506 - val_loss: 0.4066 - val_acc: 0.8704\n",
      "Epoch 19/20\n",
      "49/49 [==============================] - 1s 19ms/step - loss: 0.1752 - acc: 0.9604 - val_loss: 0.4412 - val_acc: 0.8636\n",
      "Epoch 20/20\n",
      "49/49 [==============================] - 1s 19ms/step - loss: 0.1770 - acc: 0.9580 - val_loss: 0.4208 - val_acc: 0.8675\n"
     ]
    }
   ],
   "source": [
    "l2_model_hist = l2_model.fit(x_train, y_train,\n",
    "                             epochs=20,\n",
    "                             batch_size=512,\n",
    "                             validation_data=(x_test, y_test))"
   ]
  },
  {
   "cell_type": "code",
   "execution_count": 16,
   "metadata": {},
   "outputs": [
    {
     "data": {
      "image/png": "[encoded data removed]",
      "text/plain": [
       "<Figure size 432x288 with 1 Axes>"
      ]
     },
     "metadata": {
      "needs_background": "light"
     },
     "output_type": "display_data"
    }
   ],
   "source": [
    "l2_model_val_loss = l2_model_hist.history['val_loss']\n",
    "\n",
    "plt.plot(epochs, original_val_loss, 'b+', label='Original model')\n",
    "plt.plot(epochs, l2_model_val_loss, 'bo', label='L2-regularized model')\n",
    "plt.xlabel('Epochs')\n",
    "plt.ylabel('Validation loss')\n",
    "plt.legend()\n",
    "\n",
    "plt.show()"
   ]
  },
  {
   "cell_type": "code",
   "execution_count": 17,
   "metadata": {},
   "outputs": [
    {
     "data": {
      "text/plain": [
       "<tensorflow.python.keras.regularizers.L1L2 at 0x1eabfdd2730>"
      ]
     },
     "execution_count": 17,
     "metadata": {},
     "output_type": "execute_result"
    }
   ],
   "source": [
    "from keras import regularizers\n",
    "\n",
    "# L1 regularization\n",
    "regularizers.l1(0.001)\n",
    "\n",
    "# L1 and L2 regularization at the same time\n",
    "regularizers.l1_l2(l1=0.001, l2=0.001)"
   ]
  },
  {
   "cell_type": "code",
   "execution_count": 18,
   "metadata": {},
   "outputs": [
    {
     "name": "stdout",
     "output_type": "stream",
     "text": [
      "[0.2 0.  1.3 0.8 1.1]\n"
     ]
    }
   ],
   "source": [
    "# At training time: we drop out 50% of the units in the output\n",
    "layer_output = np.array([0.2, 0.5, 1.3, 0.8, 1.1])\n",
    "\n",
    "layer_output *= np.random.randint(0, high=2, size=layer_output.shape)\n",
    "print(layer_output)"
   ]
  },
  {
   "cell_type": "code",
   "execution_count": 19,
   "metadata": {},
   "outputs": [],
   "source": [
    "# At test time:\n",
    "layer_output *= 0.5"
   ]
  },
  {
   "cell_type": "code",
   "execution_count": 20,
   "metadata": {},
   "outputs": [
    {
     "data": {
      "text/plain": [
       "array([0.2, 0. , 1.3, 0. , 1.1])"
      ]
     },
     "execution_count": 20,
     "metadata": {},
     "output_type": "execute_result"
    }
   ],
   "source": [
    "# At training time:\n",
    "layer_output *= np.random.randint(0, high=2, size=layer_output.shape)\n",
    "# Note that we are scaling *up* rather scaling *down* in this case\n",
    "layer_output /= 0.5\n",
    "layer_output"
   ]
  },
  {
   "cell_type": "code",
   "execution_count": 21,
   "metadata": {},
   "outputs": [],
   "source": [
    "# model.add(layers.Dropout(0.5))"
   ]
  },
  {
   "cell_type": "code",
   "execution_count": 22,
   "metadata": {},
   "outputs": [],
   "source": [
    "dpt_model = models.Sequential()\n",
    "dpt_model.add(layers.Dense(16, activation='relu', input_shape=(10000,)))\n",
    "dpt_model.add(layers.Dropout(0.5))\n",
    "dpt_model.add(layers.Dense(16, activation='relu'))\n",
    "dpt_model.add(layers.Dropout(0.5))\n",
    "dpt_model.add(layers.Dense(1, activation='sigmoid'))\n",
    "\n",
    "dpt_model.compile(optimizer='rmsprop',\n",
    "                  loss='binary_crossentropy',\n",
    "                  metrics=['acc'])"
   ]
  },
  {
   "cell_type": "code",
   "execution_count": 23,
   "metadata": {},
   "outputs": [
    {
     "name": "stdout",
     "output_type": "stream",
     "text": [
      "Epoch 1/20\n",
      "49/49 [==============================] - 3s 33ms/step - loss: 0.6524 - acc: 0.5982 - val_loss: 0.4613 - val_acc: 0.8631\n",
      "Epoch 2/20\n",
      "49/49 [==============================] - 1s 21ms/step - loss: 0.4890 - acc: 0.7780 - val_loss: 0.3544 - val_acc: 0.8814\n",
      "Epoch 3/20\n",
      "49/49 [==============================] - 1s 19ms/step - loss: 0.3834 - acc: 0.8442 - val_loss: 0.3007 - val_acc: 0.8854\n",
      "Epoch 4/20\n",
      "49/49 [==============================] - 1s 19ms/step - loss: 0.3265 - acc: 0.8788 - val_loss: 0.2776 - val_acc: 0.8888\n",
      "Epoch 5/20\n",
      "49/49 [==============================] - 1s 20ms/step - loss: 0.2823 - acc: 0.9030 - val_loss: 0.2879 - val_acc: 0.8795\n",
      "Epoch 6/20\n",
      "49/49 [==============================] - 1s 19ms/step - loss: 0.2428 - acc: 0.9181 - val_loss: 0.2841 - val_acc: 0.8894\n",
      "Epoch 7/20\n",
      "49/49 [==============================] - 1s 19ms/step - loss: 0.2155 - acc: 0.9259 - val_loss: 0.2950 - val_acc: 0.8872\n",
      "Epoch 8/20\n",
      "49/49 [==============================] - 1s 20ms/step - loss: 0.2016 - acc: 0.9311 - val_loss: 0.3143 - val_acc: 0.8856\n",
      "Epoch 9/20\n",
      "49/49 [==============================] - 1s 20ms/step - loss: 0.1838 - acc: 0.9390 - val_loss: 0.3311 - val_acc: 0.8845\n",
      "Epoch 10/20\n",
      "49/49 [==============================] - 1s 21ms/step - loss: 0.1633 - acc: 0.9466 - val_loss: 0.3504 - val_acc: 0.8840\n",
      "Epoch 11/20\n",
      "49/49 [==============================] - 1s 21ms/step - loss: 0.1518 - acc: 0.9492 - val_loss: 0.3830 - val_acc: 0.8832\n",
      "Epoch 12/20\n",
      "49/49 [==============================] - 1s 20ms/step - loss: 0.1415 - acc: 0.9544 - val_loss: 0.3946 - val_acc: 0.8818\n",
      "Epoch 13/20\n",
      "49/49 [==============================] - 1s 21ms/step - loss: 0.1413 - acc: 0.9534 - val_loss: 0.4159 - val_acc: 0.8800\n",
      "Epoch 14/20\n",
      "49/49 [==============================] - 1s 20ms/step - loss: 0.1278 - acc: 0.9570 - val_loss: 0.4500 - val_acc: 0.8812\n",
      "Epoch 15/20\n",
      "49/49 [==============================] - 1s 20ms/step - loss: 0.1231 - acc: 0.9548 - val_loss: 0.4735 - val_acc: 0.8792\n",
      "Epoch 16/20\n",
      "49/49 [==============================] - 1s 22ms/step - loss: 0.1172 - acc: 0.9583 - val_loss: 0.4992 - val_acc: 0.8782\n",
      "Epoch 17/20\n",
      "49/49 [==============================] - 1s 19ms/step - loss: 0.1159 - acc: 0.9591 - val_loss: 0.5046 - val_acc: 0.8758\n",
      "Epoch 18/20\n",
      "49/49 [==============================] - 1s 20ms/step - loss: 0.1134 - acc: 0.9615 - val_loss: 0.5200 - val_acc: 0.8743\n",
      "Epoch 19/20\n",
      "49/49 [==============================] - 1s 20ms/step - loss: 0.1067 - acc: 0.9626 - val_loss: 0.5566 - val_acc: 0.8737\n",
      "Epoch 20/20\n",
      "49/49 [==============================] - 1s 19ms/step - loss: 0.1121 - acc: 0.9617 - val_loss: 0.5470 - val_acc: 0.8727\n"
     ]
    }
   ],
   "source": [
    "dpt_model_hist = dpt_model.fit(x_train, y_train,\n",
    "                               epochs=20,\n",
    "                               batch_size=512,\n",
    "                               validation_data=(x_test, y_test))"
   ]
  },
  {
   "cell_type": "code",
   "execution_count": 24,
   "metadata": {},
   "outputs": [
    {
     "data": {
      "image/png": "[encoded data removed]",
      "text/plain": [
       "<Figure size 432x288 with 1 Axes>"
      ]
     },
     "metadata": {
      "needs_background": "light"
     },
     "output_type": "display_data"
    }
   ],
   "source": [
    "dpt_model_val_loss = dpt_model_hist.history['val_loss']\n",
    "\n",
    "plt.plot(epochs, original_val_loss, 'b+', label='Original model')\n",
    "plt.plot(epochs, dpt_model_val_loss, 'bo', label='Dropout-regularized model')\n",
    "plt.xlabel('Epochs')\n",
    "plt.ylabel('Validation loss')\n",
    "plt.legend()\n",
    "\n",
    "plt.show()"
   ]
  },
  {
   "cell_type": "code",
   "execution_count": null,
   "metadata": {},
   "outputs": [],
   "source": []
  }
 ],
 "metadata": {
  "kernelspec": {
   "display_name": "Python 3",
   "language": "python",
   "name": "python3"
  },
  "language_info": {
   "codemirror_mode": {
    "name": "ipython",
    "version": 3
   },
   "file_extension": ".py",
   "mimetype": "text/x-python",
   "name": "python",
   "nbconvert_exporter": "python",
   "pygments_lexer": "ipython3",
   "version": "3.8.5"
  }
 },
 "nbformat": 4,
 "nbformat_minor": 4
}
